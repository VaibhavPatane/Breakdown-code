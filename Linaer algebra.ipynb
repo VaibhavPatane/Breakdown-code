{
  "nbformat": 4,
  "nbformat_minor": 0,
  "metadata": {
    "colab": {
      "provenance": [],
      "authorship_tag": "ABX9TyN1JZFEpKEMY5aa0j3Vf4K0",
      "include_colab_link": true
    },
    "kernelspec": {
      "name": "python3",
      "display_name": "Python 3"
    },
    "language_info": {
      "name": "python"
    }
  },
  "cells": [
    {
      "cell_type": "markdown",
      "metadata": {
        "id": "view-in-github",
        "colab_type": "text"
      },
      "source": [
        "<a href=\"https://colab.research.google.com/github/VaibhavPatane/Breakdown-code/blob/main/Linaer%20algebra.ipynb\" target=\"_parent\"><img src=\"https://colab.research.google.com/assets/colab-badge.svg\" alt=\"Open In Colab\"/></a>"
      ]
    },
    {
      "cell_type": "code",
      "execution_count": null,
      "metadata": {
        "colab": {
          "base_uri": "https://localhost:8080/",
          "height": 430
        },
        "id": "_6XZ5uklZ0MP",
        "outputId": "dbdcfc12-152d-4482-b70e-b790d88c7087"
      },
      "outputs": [
        {
          "output_type": "display_data",
          "data": {
            "text/plain": [
              "<Figure size 640x480 with 1 Axes>"
            ],
            "image/png": "[encoded data removed]"
          },
          "metadata": {}
        }
      ],
      "source": [
        "\n",
        "\n",
        "import matplotlib.pyplot as plt\n",
        "x =2+4j\n",
        "plt.scatter(x.real,x.imag,color='orange')\n",
        "plt.scatter(-1*x.real,-1*x.imag,color='blue')\n",
        "plt.show()"
      ]
    },
    {
      "cell_type": "code",
      "source": [
        "x = [[3,3,2],\n",
        " [4,1,5],\n",
        "   [7,2,7]]\n",
        "y = [[5,3,1,2],\n",
        " [1,7,3,0],\n",
        "  [2,5,2,1]]\n",
        "MUL = [[0,0,0,0],\n",
        "       [0,0,0,0],\n",
        "       [0,0,0,0]]\n",
        "print(\"MULTIPLICATION OF TWO MATRIX IS :\")\n",
        "for i in range (len(x)):\n",
        "  for j in range (len(y[0])):\n",
        "    for k in range (len(y)):\n",
        "      MUL[i][j]+=x[i][k] * y[k][j]\n",
        "\n",
        "for r in MUL:\n",
        "  print(r)"
      ],
      "metadata": {
        "id": "UHkTapF4a1LL",
        "colab": {
          "base_uri": "https://localhost:8080/"
        },
        "outputId": "ddb3346b-855f-485d-8f00-98c4b82102d0"
      },
      "execution_count": 1,
      "outputs": [
        {
          "output_type": "stream",
          "name": "stdout",
          "text": [
            "MULTIPLICATION OF TWO MATRIX IS :\n",
            "[22, 40, 16, 8]\n",
            "[31, 44, 17, 13]\n",
            "[51, 70, 27, 21]\n"
          ]
        }
      ]
    },
    {
      "cell_type": "code",
      "source": [
        "import numpy as np\n",
        "a=np.array([0,4,6])\n",
        "b=np.array([[1,1],[4,9],[-1,-10]])\n",
        "print(np.dot(a,b))"
      ],
      "metadata": {
        "colab": {
          "base_uri": "https://localhost:8080/"
        },
        "id": "rUzUYFglRlWr",
        "outputId": "b234e950-ed26-4135-ad0d-7b9cd5e9f844"
      },
      "execution_count": 2,
      "outputs": [
        {
          "output_type": "stream",
          "name": "stdout",
          "text": [
            "[ 10 -24]\n"
          ]
        }
      ]
    }
  ]
}